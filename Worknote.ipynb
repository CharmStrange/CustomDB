{
  "nbformat": 4,
  "nbformat_minor": 0,
  "metadata": {
    "colab": {
      "provenance": [],
      "authorship_tag": "ABX9TyMWwrRnLRfkCIsxudoCR0Bs",
      "include_colab_link": true
    },
    "kernelspec": {
      "name": "python3",
      "display_name": "Python 3"
    },
    "language_info": {
      "name": "python"
    }
  },
  "cells": [
    {
      "cell_type": "markdown",
      "metadata": {
        "id": "view-in-github",
        "colab_type": "text"
      },
      "source": [
        "<a href=\"https://colab.research.google.com/github/CharmStrange/CustomDB/blob/main/Worknote.ipynb\" target=\"_parent\"><img src=\"https://colab.research.google.com/assets/colab-badge.svg\" alt=\"Open In Colab\"/></a>"
      ]
    },
    {
      "cell_type": "markdown",
      "source": [
        "# Custom Database\n"
      ],
      "metadata": {
        "id": "5doMEUq0Eo73"
      }
    },
    {
      "cell_type": "code",
      "execution_count": null,
      "metadata": {
        "id": "pf0He8-EEXOu"
      },
      "outputs": [],
      "source": [
        "import os\n",
        "import datetime as dt\n",
        "import ctypes as ct\n",
        "import numpy as np\n",
        "\n",
        "class Struct(ct.Structure):\n",
        "    # fields are customizable\n",
        "    _fields_ = [\n",
        "        ('Header', ct.c_short),\n",
        "        ('Data_int', ct.c_int),\n",
        "        ('Data_double', ct.c_double)\n",
        "               ]\n",
        "\n",
        "    def __init__(self):\n",
        "        pass\n",
        "\n",
        "    def __del__(self):\n",
        "        pass\n",
        "\n",
        "    def push(self, Header, Data_int, Data_double):\n",
        "        self.Header = Header\n",
        "        self.Data_int = Data_int\n",
        "        self.Data_double = Data_double\n",
        "\n",
        "class TitanVault:\n",
        "\n",
        "    def __init__(self, DataBaseName):\n",
        "        self.DataBaseName = DataBaseName\n",
        "        self.CreatedDate = dt.datetime.now()\n",
        "        self.Base = []\n",
        "\n",
        "    def __del__(self):\n",
        "        pass\n",
        "\n",
        "    def newStruct(self):\n",
        "        self.Structure = Struct()\n",
        "        self.Base.append(self.Structure)\n",
        "        return self.Structure\n",
        "\n",
        "    def pop(self, index):\n",
        "        del self.Base[index]\n",
        "\n",
        "class Cursor:\n",
        "\n",
        "    db = 0\n",
        "    dbs = []\n",
        "\n",
        "    @classmethod\n",
        "    def About(cls):\n",
        "        print(f\"Database(s) in database list : {len(cls.dbs)}\")\n",
        "\n",
        "        for database in cls.dbs:\n",
        "            print(f\"All database(s) : {database}\")\n",
        "\n",
        "    \"\"\"\n",
        "\n",
        "    | Document |\n",
        "\n",
        "    01. Create a new database.\n",
        "    >>>\n",
        "\n",
        "    02. Utilize it.\n",
        "    >>>\n",
        "\n",
        "    \"\"\"\n",
        "\n",
        "    def __init__(self, Name, cnt=1):\n",
        "        for i in range(cnt):\n",
        "            self.db += 1\n",
        "            titanvault = TitanVault(Name)\n",
        "            self.dbs.append(titanvault)\n",
        "            print(f\"Created new database(s) | {titanvault} | Database can be controled by methods.\\n\")\n",
        "        print(f\"Created database(s) : {self.db} | Length of database list : {len(self.dbs)}\")\n",
        "\n",
        "    def __del__(self):\n",
        "        pass\n",
        "\n",
        "    def information(self):\n",
        "        index = 0\n",
        "\n",
        "        for element in self.dbs:\n",
        "            print(f\"Informations of each database :\\nDatabse list index [{index}] | Database name : {element.DataBaseName} | Created date : {element.CreatedDate}\")\n",
        "            index+=1\n",
        "\n",
        "    def insert(self, index, header, data_int, data_double):\n",
        "        new_Struct = self.dbs[index].newStruct()\n",
        "        print(type(new_Struct))\n",
        "        new_Struct.push(header, data_int, data_double)\n",
        "        return new_Struct\n",
        "\n",
        "    def pop(self, index):\n",
        "        del self.dbs[index]\n",
        "        print(\"Successfully deleted.\")"
      ]
    },
    {
      "cell_type": "code",
      "source": [
        "Titan1 = TitanVault('titan1')\n",
        "Titan1.DataBaseName\n",
        "Titan1.CreatedDate\n",
        "Titan1.newStruct()\n",
        "Titan1.Base[0].push(10, 64, 0.5)\n",
        "\n",
        "print(len(Titan1.Base))\n",
        "\n",
        "Titan1.newStruct()\n",
        "Titan1.Base[1].push(20, 128, 1.0)\n",
        "\n",
        "print(len(Titan1.Base))\n",
        "\n",
        "# Checking each Struct\n",
        "#Titan1.Base[0].Header; Titan1.Base[0].Data_int; Titan1.Base[0].Data_double\n",
        "#Titan1.Base[1].Header; Titan1.Base[1].Data_int; Titan1.Base[1].Data_double\n",
        "\n",
        "Titan1.pop(0)\n",
        "print(len(Titan1.Base))"
      ],
      "metadata": {
        "id": "ZsAp8urJVLn0",
        "colab": {
          "base_uri": "https://localhost:8080/"
        },
        "outputId": "9f9b53a3-c364-4655-9c4c-29e47ac8a33e"
      },
      "execution_count": null,
      "outputs": [
        {
          "output_type": "stream",
          "name": "stdout",
          "text": [
            "1\n",
            "2\n",
            "1\n"
          ]
        }
      ]
    },
    {
      "cell_type": "code",
      "source": [
        "Titan2 = TitanVault('titan2')\n",
        "Titan2.DataBaseName\n",
        "Titan2.CreatedDate\n",
        "Titan2.newStruct()\n",
        "Titan2.Base[0].push(5, 32, 0.25)\n",
        "\n",
        "print(len(Titan2.Base))\n",
        "\n",
        "Titan2.newStruct()\n",
        "Titan2.Base[1].push(2, 16, 0.12)\n",
        "\n",
        "print(len(Titan2.Base))\n",
        "\n",
        "# Checking each Struct\n",
        "#Titan2.Base[0].Header; Titan2.Base[0].Data_int; Titan2.Base[0].Data_double\n",
        "#Titan2.Base[1].Header; Titan2.Base[1].Data_int; Titan2.Base[1].Data_double\n",
        "\n",
        "Titan2.pop(0)\n",
        "print(len(Titan2.Base))"
      ],
      "metadata": {
        "colab": {
          "base_uri": "https://localhost:8080/"
        },
        "id": "wxpnpNQJOSlF",
        "outputId": "3e1c2145-e2a2-4e33-9abe-7b0aa804936a"
      },
      "execution_count": null,
      "outputs": [
        {
          "output_type": "stream",
          "name": "stdout",
          "text": [
            "1\n",
            "2\n",
            "1\n"
          ]
        }
      ]
    },
    {
      "cell_type": "code",
      "source": [
        "test1 = Cursor('titan1')\n",
        "test1.information()\n",
        "test1.insert(0, 1, 2, 3.14)"
      ],
      "metadata": {
        "colab": {
          "base_uri": "https://localhost:8080/"
        },
        "id": "CFlfCdPMYoWX",
        "outputId": "2a44252d-31ca-47bf-f8dd-712f6ad47d89"
      },
      "execution_count": null,
      "outputs": [
        {
          "output_type": "stream",
          "name": "stdout",
          "text": [
            "Created new database(s) | <__main__.TitanVault object at 0x7dea82269de0> | Database can be controled by methods.\n",
            "\n",
            "Created database(s) : 1 | Length of database list : 1\n",
            "Informations of each database :\n",
            "Databse list index [0] | Database name : titan1 | Created date : 2024-07-31 11:06:34.415533\n",
            "<class '__main__.Struct'>\n"
          ]
        },
        {
          "output_type": "execute_result",
          "data": {
            "text/plain": [
              "<__main__.Struct at 0x7dea821d33c0>"
            ]
          },
          "metadata": {},
          "execution_count": 4
        }
      ]
    },
    {
      "cell_type": "code",
      "source": [
        "test2 = Cursor('titan2')\n",
        "test2.information()\n",
        "test2.insert(1, 2, 3, 4.25)"
      ],
      "metadata": {
        "colab": {
          "base_uri": "https://localhost:8080/"
        },
        "id": "Y07PU2Ab7u0t",
        "outputId": "f4b6b62c-9c97-4ca0-cfeb-6fd367c9c985"
      },
      "execution_count": null,
      "outputs": [
        {
          "output_type": "stream",
          "name": "stdout",
          "text": [
            "Created new database(s) | <__main__.TitanVault object at 0x7dea82269f30> | Database can be controled by methods.\n",
            "\n",
            "Created database(s) : 1 | Length of database list : 2\n",
            "Informations of each database :\n",
            "Databse list index [0] | Database name : titan1 | Created date : 2024-07-31 11:06:34.415533\n",
            "Informations of each database :\n",
            "Databse list index [1] | Database name : titan2 | Created date : 2024-07-31 11:06:34.433199\n",
            "<class '__main__.Struct'>\n"
          ]
        },
        {
          "output_type": "execute_result",
          "data": {
            "text/plain": [
              "<__main__.Struct at 0x7dea821d3140>"
            ]
          },
          "metadata": {},
          "execution_count": 5
        }
      ]
    },
    {
      "cell_type": "code",
      "source": [
        "test3 = Cursor('titan3')\n",
        "test3.About()\n",
        "test3.pop(0)\n",
        "test3.About()"
      ],
      "metadata": {
        "colab": {
          "base_uri": "https://localhost:8080/"
        },
        "id": "O7mYkMut76Ps",
        "outputId": "fccdaece-6670-4ae5-e4a4-bb67ee150972"
      },
      "execution_count": null,
      "outputs": [
        {
          "output_type": "stream",
          "name": "stdout",
          "text": [
            "Created new database(s) | <__main__.TitanVault object at 0x7dea82269900> | Database can be controled by methods.\n",
            "\n",
            "Created database(s) : 1 | Length of database list : 3\n",
            "Database(s) in database list : 3\n",
            "All database(s) : <__main__.TitanVault object at 0x7dea82269de0>\n",
            "All database(s) : <__main__.TitanVault object at 0x7dea82269f30>\n",
            "All database(s) : <__main__.TitanVault object at 0x7dea82269900>\n",
            "Successfully deleted.\n",
            "Database(s) in database list : 2\n",
            "All database(s) : <__main__.TitanVault object at 0x7dea82269f30>\n",
            "All database(s) : <__main__.TitanVault object at 0x7dea82269900>\n"
          ]
        }
      ]
    },
    {
      "cell_type": "code",
      "source": [
        "class DataBase:\n",
        "\n",
        "    Objects = []\n",
        "\n",
        "    @classmethod\n",
        "    def print_list(cls):\n",
        "        print(f\"{len(cls.Objects)} | {cls.Objects[:]}\")\n",
        "\n",
        "    def __init__(self, DataBaseName):\n",
        "        self.DataBaseName = DataBaseName\n",
        "        self.Base = []\n",
        "        self.Objects.append(self)\n",
        "        self.print_list()\n",
        "\n",
        "    def __del__(self):\n",
        "        del self.Base[:]\n",
        "\n",
        "    def newElement(self, element):\n",
        "        self.Base.append(element)\n",
        "\n",
        "Object_1 = DataBase('DB1')\n",
        "Object_2 = DataBase('DB2')\n",
        "Object_3 = DataBase('DB3')"
      ],
      "metadata": {
        "colab": {
          "base_uri": "https://localhost:8080/"
        },
        "id": "6Ch0yi64KTG9",
        "outputId": "a9d2d484-406f-4b59-a897-0c0a040c7875"
      },
      "execution_count": null,
      "outputs": [
        {
          "output_type": "stream",
          "name": "stdout",
          "text": [
            "1 | [<__main__.DataBase object at 0x7dea8226b670>]\n",
            "2 | [<__main__.DataBase object at 0x7dea8226b670>, <__main__.DataBase object at 0x7dea8226a620>]\n",
            "3 | [<__main__.DataBase object at 0x7dea8226b670>, <__main__.DataBase object at 0x7dea8226a620>, <__main__.DataBase object at 0x7dea82269fc0>]\n"
          ]
        }
      ]
    },
    {
      "cell_type": "markdown",
      "source": [
        "---"
      ],
      "metadata": {
        "id": "HhBk6zkAlKQt"
      }
    },
    {
      "cell_type": "code",
      "source": [
        "import sqlite3\n",
        "\n",
        "DB = sqlite3.connect('/content/CarrotText_WHOLE.db')\n",
        "DBC = DB.cursor()\n",
        "DBC.execute( \"SELECT * FROM CarrotTextWHOLE\" )\n",
        "columns_carrot = [attributes[0] for attributes in DBC.description]\n",
        "raw_carrot = DBC.fetchall()\n",
        "\n",
        "DB.row_factory = sqlite3.Row\n",
        "new_DBC = DB.cursor()\n",
        "new_DBC.execute( \"SELECT * FROM CarrotTextWHOLE\" )\n",
        "\n",
        "tmp = [tpl for tpl in raw_carrot]"
      ],
      "metadata": {
        "id": "uorTVCx6hsEc"
      },
      "execution_count": 1,
      "outputs": []
    },
    {
      "cell_type": "code",
      "source": [
        "DBC.close()"
      ],
      "metadata": {
        "id": "aMMLbtRUjuy7"
      },
      "execution_count": 2,
      "outputs": []
    },
    {
      "cell_type": "code",
      "source": [
        "tmp[:5]"
      ],
      "metadata": {
        "colab": {
          "base_uri": "https://localhost:8080/"
        },
        "id": "nem2XKCukt7m",
        "outputId": "6e328564-bb32-4c99-bc94-b75848bfb8f2"
      },
      "execution_count": 3,
      "outputs": [
        {
          "output_type": "execute_result",
          "data": {
            "text/plain": [
              "[('다이슨 슈퍼소닉 드라이기 정품', '100000'),\n",
              " ('웅진코웨이 제습기', '20000'),\n",
              " ('티비 1만원에 오늘 가져가실 분(내일 이사가요)', '10000'),\n",
              " ('선풍기 (새것）', '5000'),\n",
              " ('에르메스 미니팝아슈 목걸이 판매합니다!(풀구성,새상품)', '150000')]"
            ]
          },
          "metadata": {},
          "execution_count": 3
        }
      ]
    },
    {
      "cell_type": "code",
      "source": [
        "import os\n",
        "import datetime as dt\n",
        "import ctypes as ct\n",
        "import pickle\n",
        "\n",
        "class Struct(ct.Structure):\n",
        "    _fields_ = [\n",
        "        ('Title', ct.c_char_p),  # Change to c_char_p for string type\n",
        "        ('Price', ct.c_double),\n",
        "    ]\n",
        "\n",
        "    def push(self, Title, Price):\n",
        "        self.Title = Title.encode('utf-8')  # Encode string to bytes\n",
        "        self.Price = Price\n",
        "\n",
        "    def __str__(self):\n",
        "        return f\"Struct(Title={self.Title.decode('utf-8')}, Price={self.Price})\"  # Decode bytes to string\n",
        "\n",
        "class TitanVault:\n",
        "    def __init__(self, database_name):\n",
        "        self.database_name = database_name\n",
        "        self.created_date = dt.datetime.now()\n",
        "        self.base = []\n",
        "\n",
        "    def new_struct(self, Title, Price):\n",
        "        new_structure = Struct()\n",
        "        new_structure.push(Title, float(Price))  # Convert Price to float\n",
        "        self.base.append(new_structure)\n",
        "        return new_structure\n",
        "\n",
        "    def delete_struct(self, index):\n",
        "        if 0 <= index < len(self.base):\n",
        "            del self.base[index]\n",
        "            print(f\"Structure at index {index} deleted successfully.\")\n",
        "        else:\n",
        "            print(\"Error: Index out of range.\")\n",
        "\n",
        "    def get_struct(self, index):\n",
        "        if 0 <= index < len(self.base):\n",
        "            return self.base[index]\n",
        "        else:\n",
        "            print(\"Error: Index out of range.\")\n",
        "            return None\n",
        "\n",
        "    def __str__(self):\n",
        "        return f\"Database: {self.database_name}, Created(UTC): {self.created_date}, Structs: {len(self.base)}\"\n",
        "\n",
        "\n",
        "class Cursor:\n",
        "    dbs = []\n",
        "\n",
        "    @classmethod\n",
        "    def about(cls):\n",
        "        print(f\"Number of databases: {len(cls.dbs)}\")\n",
        "        for db in cls.dbs:\n",
        "            print(db)\n",
        "\n",
        "    def __init__(self, name, cnt=1):\n",
        "        self.dbs = [TitanVault(name) for _ in range(cnt)]\n",
        "        print(f\"Created {cnt} database(s): {[db.database_name for db in self.dbs]}\")\n",
        "\n",
        "    def information(self):\n",
        "        for i, db in enumerate(self.dbs):\n",
        "            print(f\"Index [{i}] - {db}\")\n",
        "\n",
        "    def insert(self, index, Title, Price):\n",
        "        if 0 <= index < len(self.dbs):\n",
        "            new_struct = self.dbs[index].new_struct(Title, Price)\n",
        "            print(f\"Inserted: {new_struct}\")\n",
        "        else:\n",
        "            print(\"Error: Index out of range.\")\n",
        "\n",
        "    def pop(self, index):\n",
        "        if 0 <= index < len(self.dbs):\n",
        "            del self.dbs[index]\n",
        "            print(\"Database deleted successfully.\")\n",
        "        else:\n",
        "            print(\"Error: Index out of range.\")\n",
        "\n",
        "    def save(self, filename):\n",
        "        with open(filename, 'wb') as file:\n",
        "            pickle.dump(self.dbs, file)\n",
        "        print(f\"Databases saved to {filename}.\")\n",
        "\n",
        "    def load(self, filename):\n",
        "        if os.path.exists(filename):\n",
        "            with open(filename, 'rb') as file:\n",
        "                self.dbs = pickle.load(file)\n",
        "            print(f\"Databases loaded from {filename}.\")\n",
        "        else:\n",
        "            print(\"Error: File not found.\")"
      ],
      "metadata": {
        "id": "_Bg0Wwe_lRhr"
      },
      "execution_count": 26,
      "outputs": []
    },
    {
      "cell_type": "code",
      "source": [
        "CT = TitanVault('CarrotText')\n",
        "CT_c = Cursor('CarrotText')"
      ],
      "metadata": {
        "colab": {
          "base_uri": "https://localhost:8080/"
        },
        "id": "teAud3volctz",
        "outputId": "cc1f08a9-476a-416e-cf05-3bc8ba5e0ec5"
      },
      "execution_count": 32,
      "outputs": [
        {
          "output_type": "stream",
          "name": "stdout",
          "text": [
            "Created 1 database(s): ['CarrotText']\n"
          ]
        }
      ]
    },
    {
      "cell_type": "code",
      "source": [
        "CT_c.about()\n",
        "CT_c.information()\n",
        "CT_c.insert(0, tmp[0][0], tmp[0][1])"
      ],
      "metadata": {
        "colab": {
          "base_uri": "https://localhost:8080/"
        },
        "id": "5zOk7AY3rdWd",
        "outputId": "e78fea2d-df94-49a7-faf3-53500f583508"
      },
      "execution_count": 33,
      "outputs": [
        {
          "output_type": "stream",
          "name": "stdout",
          "text": [
            "Number of databases: 0\n",
            "Index [0] - Database: CarrotText, Created(UTC): 2024-08-07 12:48:10.920412, Structs: 0\n",
            "Inserted: Struct(Title=다이슨 슈퍼소닉 드라이기 정품, Price=100000.0)\n"
          ]
        }
      ]
    }
  ]
}